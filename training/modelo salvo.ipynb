{
 "cells": [
  {
   "cell_type": "code",
   "execution_count": 186,
   "metadata": {},
   "outputs": [],
   "source": [
    "import keras"
   ]
  },
  {
   "cell_type": "code",
   "execution_count": 187,
   "metadata": {},
   "outputs": [],
   "source": [
    "import numpy as np\n",
    "import pandas as pd\n",
    "import matplotlib.pyplot as plt\n",
    "import imageio as im\n",
    "import os\n",
    "import time\n",
    "\n",
    "%matplotlib inline\n"
   ]
  },
  {
   "cell_type": "code",
   "execution_count": 188,
   "metadata": {},
   "outputs": [],
   "source": [
    "import matplotlib.image as mpimg\n",
    "import seaborn as sns\n",
    "import cv2\n",
    "sns.set(style='white', context='notebook', palette='deep')"
   ]
  },
  {
   "cell_type": "code",
   "execution_count": 189,
   "metadata": {},
   "outputs": [],
   "source": [
    "from keras.utils.np_utils import to_categorical # convert to one-hot-encoding\n",
    "from keras.models import Sequential\n",
    "from keras.layers import Dense, Dropout, Flatten, Conv2D, MaxPool2D\n",
    "from keras.optimizers import RMSprop\n",
    "from keras.preprocessing.image import ImageDataGenerator\n",
    "from keras.callbacks import ReduceLROnPlateau\n",
    "\n",
    "# import Sequential from the keras models module\n",
    "from keras.models import Sequential\n",
    "\n",
    "# import Dense, Dropout, Flatten, Conv2D, MaxPooling2D from the keras layers module\n",
    "from keras.layers import Dense, Dropout, Flatten, Conv2D, MaxPooling2D"
   ]
  },
  {
   "cell_type": "code",
   "execution_count": 190,
   "metadata": {},
   "outputs": [],
   "source": [
    "from sklearn.model_selection import train_test_split\n",
    "from sklearn.metrics import confusion_matrix, roc_auc_score, accuracy_score, roc_curve, classification_report, recall_score, precision_score, f1_score\n",
    "import itertools"
   ]
  },
  {
   "cell_type": "code",
   "execution_count": 191,
   "metadata": {},
   "outputs": [],
   "source": [
    "from sklearn.preprocessing import StandardScaler, normalize\n",
    "from sklearn.model_selection import train_test_split\n",
    "from sklearn.metrics import classification_report\n",
    "from sklearn.metrics import accuracy_score"
   ]
  },
  {
   "cell_type": "code",
   "execution_count": 192,
   "metadata": {},
   "outputs": [
    {
     "data": {
      "text/html": [
       "<div>\n",
       "<style scoped>\n",
       "    .dataframe tbody tr th:only-of-type {\n",
       "        vertical-align: middle;\n",
       "    }\n",
       "\n",
       "    .dataframe tbody tr th {\n",
       "        vertical-align: top;\n",
       "    }\n",
       "\n",
       "    .dataframe thead th {\n",
       "        text-align: right;\n",
       "    }\n",
       "</style>\n",
       "<table border=\"1\" class=\"dataframe\">\n",
       "  <thead>\n",
       "    <tr style=\"text-align: right;\">\n",
       "      <th></th>\n",
       "      <th>case</th>\n",
       "      <th>scan</th>\n",
       "      <th>roi</th>\n",
       "      <th>volume</th>\n",
       "      <th>diameter</th>\n",
       "      <th>x lox</th>\n",
       "      <th>y loc</th>\n",
       "      <th>slice</th>\n",
       "    </tr>\n",
       "  </thead>\n",
       "  <tbody>\n",
       "    <tr>\n",
       "      <th>0</th>\n",
       "      <td>1</td>\n",
       "      <td>3000566</td>\n",
       "      <td>1</td>\n",
       "      <td>645975</td>\n",
       "      <td>23107</td>\n",
       "      <td>317</td>\n",
       "      <td>367</td>\n",
       "      <td>43</td>\n",
       "    </tr>\n",
       "    <tr>\n",
       "      <th>1</th>\n",
       "      <td>2</td>\n",
       "      <td>3000522</td>\n",
       "      <td>1</td>\n",
       "      <td>666344</td>\n",
       "      <td>23347</td>\n",
       "      <td>345</td>\n",
       "      <td>361</td>\n",
       "      <td>77</td>\n",
       "    </tr>\n",
       "    <tr>\n",
       "      <th>2</th>\n",
       "      <td>3</td>\n",
       "      <td>3000611</td>\n",
       "      <td>1</td>\n",
       "      <td>40879</td>\n",
       "      <td>9208</td>\n",
       "      <td>308</td>\n",
       "      <td>198</td>\n",
       "      <td>57</td>\n",
       "    </tr>\n",
       "    <tr>\n",
       "      <th>3</th>\n",
       "      <td>3</td>\n",
       "      <td>3000611</td>\n",
       "      <td>2</td>\n",
       "      <td>116582</td>\n",
       "      <td>13058</td>\n",
       "      <td>221</td>\n",
       "      <td>219</td>\n",
       "      <td>56</td>\n",
       "    </tr>\n",
       "    <tr>\n",
       "      <th>4</th>\n",
       "      <td>3</td>\n",
       "      <td>3000611</td>\n",
       "      <td>3</td>\n",
       "      <td>498964</td>\n",
       "      <td>21201</td>\n",
       "      <td>367</td>\n",
       "      <td>350</td>\n",
       "      <td>65</td>\n",
       "    </tr>\n",
       "    <tr>\n",
       "      <th>5</th>\n",
       "      <td>3</td>\n",
       "      <td>3000611</td>\n",
       "      <td>4</td>\n",
       "      <td>427635</td>\n",
       "      <td>20138</td>\n",
       "      <td>369</td>\n",
       "      <td>347</td>\n",
       "      <td>74</td>\n",
       "    </tr>\n",
       "    <tr>\n",
       "      <th>6</th>\n",
       "      <td>4</td>\n",
       "      <td>3000534</td>\n",
       "      <td>1</td>\n",
       "      <td>5832</td>\n",
       "      <td>4811</td>\n",
       "      <td>142</td>\n",
       "      <td>323</td>\n",
       "      <td>165</td>\n",
       "    </tr>\n",
       "    <tr>\n",
       "      <th>7</th>\n",
       "      <td>5</td>\n",
       "      <td>3000548</td>\n",
       "      <td>1</td>\n",
       "      <td>11576</td>\n",
       "      <td>6047</td>\n",
       "      <td>313</td>\n",
       "      <td>407</td>\n",
       "      <td>53</td>\n",
       "    </tr>\n",
       "    <tr>\n",
       "      <th>8</th>\n",
       "      <td>5</td>\n",
       "      <td>3000548</td>\n",
       "      <td>2</td>\n",
       "      <td>7607</td>\n",
       "      <td>5257</td>\n",
       "      <td>127</td>\n",
       "      <td>398</td>\n",
       "      <td>56</td>\n",
       "    </tr>\n",
       "    <tr>\n",
       "      <th>9</th>\n",
       "      <td>5</td>\n",
       "      <td>3000548</td>\n",
       "      <td>3</td>\n",
       "      <td>6945</td>\n",
       "      <td>5100</td>\n",
       "      <td>407</td>\n",
       "      <td>377</td>\n",
       "      <td>45</td>\n",
       "    </tr>\n",
       "  </tbody>\n",
       "</table>\n",
       "</div>"
      ],
      "text/plain": [
       "   case     scan  roi  volume  diameter  x lox  y loc  slice\n",
       "0     1  3000566    1  645975     23107    317    367     43\n",
       "1     2  3000522    1  666344     23347    345    361     77\n",
       "2     3  3000611    1   40879      9208    308    198     57\n",
       "3     3  3000611    2  116582     13058    221    219     56\n",
       "4     3  3000611    3  498964     21201    367    350     65\n",
       "5     3  3000611    4  427635     20138    369    347     74\n",
       "6     4  3000534    1    5832      4811    142    323    165\n",
       "7     5  3000548    1   11576      6047    313    407     53\n",
       "8     5  3000548    2    7607      5257    127    398     56\n",
       "9     5  3000548    3    6945      5100    407    377     45"
      ]
     },
     "execution_count": 192,
     "metadata": {},
     "output_type": "execute_result"
    }
   ],
   "source": [
    "cases = pd.read_csv(r'C:\\Users\\rodri\\2 Mestrado\\Programa - medicina\\87/lista.csv')\n",
    "cases.head(10)"
   ]
  },
  {
   "cell_type": "code",
   "execution_count": 193,
   "metadata": {},
   "outputs": [
    {
     "name": "stdout",
     "output_type": "stream",
     "text": [
      "Example image has shape:  (512, 512)\n"
     ]
    },
    {
     "data": {
      "image/png": "[encoded data removed]",
      "text/plain": [
       "<Figure size 432x288 with 1 Axes>"
      ]
     },
     "metadata": {},
     "output_type": "display_data"
    }
   ],
   "source": [
    "# load an image and explore\n",
    "example_image = im.imread(r'C:\\Users\\rodri\\2 Mestrado\\Teste implementação - antigos\\LIDC-IDRI-0001\\01-01-2000-30178\\3000566-03192/000083.dcm')\n",
    "\n",
    "# show image\n",
    "plt.imshow(example_image)\n",
    "plt.axis('off')\n",
    "\n",
    "# print shape\n",
    "print('Example image has shape: ', example_image.shape)"
   ]
  },
  {
   "cell_type": "code",
   "execution_count": 72,
   "metadata": {},
   "outputs": [
    {
     "data": {
      "text/html": [
       "<div>\n",
       "<style scoped>\n",
       "    .dataframe tbody tr th:only-of-type {\n",
       "        vertical-align: middle;\n",
       "    }\n",
       "\n",
       "    .dataframe tbody tr th {\n",
       "        vertical-align: top;\n",
       "    }\n",
       "\n",
       "    .dataframe thead th {\n",
       "        text-align: right;\n",
       "    }\n",
       "</style>\n",
       "<table border=\"1\" class=\"dataframe\">\n",
       "  <thead>\n",
       "    <tr style=\"text-align: right;\">\n",
       "      <th></th>\n",
       "      <th>scan</th>\n",
       "      <th>slice</th>\n",
       "    </tr>\n",
       "  </thead>\n",
       "  <tbody>\n",
       "  </tbody>\n",
       "</table>\n",
       "</div>"
      ],
      "text/plain": [
       "Empty DataFrame\n",
       "Columns: [scan, slice]\n",
       "Index: []"
      ]
     },
     "execution_count": 72,
     "metadata": {},
     "output_type": "execute_result"
    }
   ],
   "source": [
    "loaded_images = pd.DataFrame(columns=['scan', 'slice'])\n",
    "list_images = []\n",
    "loaded_images"
   ]
  },
  {
   "cell_type": "code",
   "execution_count": 71,
   "metadata": {},
   "outputs": [],
   "source": [
    "def leitura_update(path):\n",
    "    \n",
    "    url_base = path\n",
    "\n",
    "    global loaded_images\n",
    "    global list_images\n",
    "\n",
    "    start = time.time()\n",
    "\n",
    "    for file_name in os.listdir(url_base):\n",
    "        \n",
    "        start = time.time()\n",
    "        \n",
    "        for file2 in os.listdir(url_base+'/'+file_name):\n",
    "            for file3 in os.listdir(url_base+'/'+file_name+'/'+file2):\n",
    "                for file4 in os.listdir(url_base+'/'+file_name+'/'+file2+'/'+file3):\n",
    "\n",
    "                    if file4.endswith('.dcm'):\n",
    "                        img = im.imread(os.path.join(url_base, file_name, file2, file3, file4)).astype(np.float64)\n",
    "                        img_dic = img.meta\n",
    "                        scan = img_dic['SeriesNumber']\n",
    "                        slice_n = img_dic['InstanceNumber']\n",
    "                        loaded_images.loc[len(loaded_images)] = [scan, slice_n]\n",
    "                        img = cv2.resize(img, (100, 100)) # redução dimensional\n",
    "                        list_images.append(img)\n",
    "    \n",
    "        end = time.time()-start\n",
    "\n",
    "        print('Levou', round(end,2), 'segundos para executar na pasta', file_name)\n",
    "    \n"
   ]
  },
  {
   "cell_type": "code",
   "execution_count": 73,
   "metadata": {},
   "outputs": [
    {
     "name": "stdout",
     "output_type": "stream",
     "text": [
      "Levou 5.99 segundos para executar na pasta LIDC-IDRI-0001\n",
      "Levou 12.54 segundos para executar na pasta LIDC-IDRI-0002\n",
      "Levou 8.38 segundos para executar na pasta LIDC-IDRI-0003\n",
      "Levou 10.82 segundos para executar na pasta LIDC-IDRI-0004\n",
      "Levou 6.46 segundos para executar na pasta LIDC-IDRI-0005\n",
      "Levou 7.25 segundos para executar na pasta LIDC-IDRI-0006\n",
      "Levou 7.19 segundos para executar na pasta LIDC-IDRI-0007\n",
      "Levou 6.77 segundos para executar na pasta LIDC-IDRI-0008\n",
      "Levou 13.21 segundos para executar na pasta LIDC-IDRI-0009\n",
      "Levou 6.41 segundos para executar na pasta LIDC-IDRI-0013\n",
      "Levou 7.9 segundos para executar na pasta LIDC-IDRI-0017\n",
      "Levou 6.25 segundos para executar na pasta LIDC-IDRI-0018\n",
      "Levou 15.57 segundos para executar na pasta LIDC-IDRI-0019\n",
      "Levou 8.51 segundos para executar na pasta LIDC-IDRI-0021\n",
      "Levou 7.69 segundos para executar na pasta LIDC-IDRI-0022\n",
      "Levou 7.29 segundos para executar na pasta LIDC-IDRI-0023\n",
      "Levou 7.41 segundos para executar na pasta LIDC-IDRI-0024\n",
      "Levou 14.4 segundos para executar na pasta LIDC-IDRI-0025\n",
      "Levou 13.36 segundos para executar na pasta LIDC-IDRI-0026\n",
      "Levou 6.95 segundos para executar na pasta LIDC-IDRI-0027\n",
      "Levou 7.48 segundos para executar na pasta LIDC-IDRI-0028\n",
      "Levou 14.55 segundos para executar na pasta LIDC-IDRI-0029\n",
      "Levou 6.36 segundos para executar na pasta LIDC-IDRI-0030\n",
      "Levou 7.25 segundos para executar na pasta LIDC-IDRI-0031\n",
      "Levou 12.46 segundos para executar na pasta LIDC-IDRI-0032\n",
      "Levou 7.26 segundos para executar na pasta LIDC-IDRI-0033\n",
      "Levou 13.52 segundos para executar na pasta LIDC-IDRI-0034\n",
      "Levou 6.87 segundos para executar na pasta LIDC-IDRI-0035\n",
      "Levou 13.76 segundos para executar na pasta LIDC-IDRI-0036\n",
      "Levou 6.06 segundos para executar na pasta LIDC-IDRI-0037\n",
      "Levou 6.05 segundos para executar na pasta LIDC-IDRI-0038\n",
      "Levou 13.29 segundos para executar na pasta LIDC-IDRI-0039\n",
      "Levou 5.89 segundos para executar na pasta LIDC-IDRI-0040\n",
      "Levou 7.33 segundos para executar na pasta LIDC-IDRI-0041\n",
      "Levou 6.89 segundos para executar na pasta LIDC-IDRI-0042\n",
      "Levou 5.68 segundos para executar na pasta LIDC-IDRI-0043\n",
      "Levou 7.88 segundos para executar na pasta LIDC-IDRI-0044\n",
      "Levou 7.03 segundos para executar na pasta LIDC-IDRI-0045\n",
      "Levou 6.2 segundos para executar na pasta LIDC-IDRI-0046\n",
      "Levou 5.49 segundos para executar na pasta LIDC-IDRI-0047\n",
      "Levou 13.66 segundos para executar na pasta LIDC-IDRI-0048\n",
      "Levou 5.81 segundos para executar na pasta LIDC-IDRI-0049\n",
      "Levou 6.34 segundos para executar na pasta LIDC-IDRI-0050\n",
      "Levou 5.48 segundos para executar na pasta LIDC-IDRI-0051\n",
      "Levou 12.0 segundos para executar na pasta LIDC-IDRI-0052\n",
      "Levou 4.62 segundos para executar na pasta LIDC-IDRI-0053\n",
      "Levou 5.39 segundos para executar na pasta LIDC-IDRI-0054\n",
      "Levou 6.38 segundos para executar na pasta LIDC-IDRI-0055\n",
      "Levou 10.81 segundos para executar na pasta LIDC-IDRI-0056\n",
      "Levou 11.92 segundos para executar na pasta LIDC-IDRI-0057\n",
      "Levou 5.78 segundos para executar na pasta LIDC-IDRI-0058\n",
      "Levou 5.94 segundos para executar na pasta LIDC-IDRI-0059\n",
      "Levou 5.07 segundos para executar na pasta LIDC-IDRI-0060\n"
     ]
    }
   ],
   "source": [
    "# Adicionando novas imagens na lista antiga\n",
    "url_base1 = r'C:\\Users\\rodri\\Downloads\\Pasta_de_fotos'\n",
    "leitura_update(url_base1)\n"
   ]
  },
  {
   "cell_type": "code",
   "execution_count": 74,
   "metadata": {},
   "outputs": [
    {
     "name": "stdout",
     "output_type": "stream",
     "text": [
      "Levou 0.62 segundos para executar na pasta LIDC-IDRI-0061\n",
      "Levou 0.58 segundos para executar na pasta LIDC-IDRI-0062\n",
      "Levou 0.67 segundos para executar na pasta LIDC-IDRI-0063\n",
      "Levou 0.67 segundos para executar na pasta LIDC-IDRI-0064\n",
      "Levou 1.2 segundos para executar na pasta LIDC-IDRI-0065\n",
      "Levou 4.23 segundos para executar na pasta LIDC-IDRI-0066\n",
      "Levou 1.28 segundos para executar na pasta LIDC-IDRI-0067\n",
      "Levou 1.41 segundos para executar na pasta LIDC-IDRI-0068\n",
      "Levou 0.74 segundos para executar na pasta LIDC-IDRI-0069\n",
      "Levou 0.73 segundos para executar na pasta LIDC-IDRI-0070\n"
     ]
    }
   ],
   "source": [
    "url_base2 = r'C:\\Users\\rodri\\2 Mestrado\\Programa - medicina\\adicionando fotos'\n",
    "leitura_update(url_base2)"
   ]
  },
  {
   "cell_type": "code",
   "execution_count": 75,
   "metadata": {},
   "outputs": [
    {
     "name": "stdout",
     "output_type": "stream",
     "text": [
      "11316\n",
      "11316\n"
     ]
    }
   ],
   "source": [
    "print(len(list_images))\n",
    "print(len(loaded_images))"
   ]
  },
  {
   "cell_type": "code",
   "execution_count": 76,
   "metadata": {},
   "outputs": [],
   "source": [
    "# Salvando as fotos carregadas\n",
    "import pickle\n",
    "\n",
    "with open('list_images_2020', 'wb') as f:\n",
    "    pickle.dump(list_images, f)\n",
    "\n",
    "with open('loaded_images_2020', 'wb') as f:\n",
    "    pickle.dump(loaded_images, f)"
   ]
  },
  {
   "cell_type": "code",
   "execution_count": 115,
   "metadata": {},
   "outputs": [],
   "source": [
    "# para carregar\n",
    "import pickle\n",
    "\n",
    "with open(r'list_images_2020', 'rb') as f:\n",
    "    list_images = pickle.load(f)\n",
    "\n",
    "with open(r'loaded_images_2020', 'rb') as f:\n",
    "    loaded_images = pickle.load(f)"
   ]
  },
  {
   "cell_type": "code",
   "execution_count": 116,
   "metadata": {},
   "outputs": [
    {
     "name": "stdout",
     "output_type": "stream",
     "text": [
      "11316\n",
      "11316\n"
     ]
    }
   ],
   "source": [
    "print(len(list_images))\n",
    "print(len(loaded_images))"
   ]
  },
  {
   "cell_type": "code",
   "execution_count": 117,
   "metadata": {},
   "outputs": [],
   "source": [
    "normalized_list = []\n",
    "for i in list_images:\n",
    "    normalized_list.append(normalize(i))"
   ]
  },
  {
   "cell_type": "code",
   "execution_count": 118,
   "metadata": {},
   "outputs": [],
   "source": [
    "X = np.array(normalized_list)"
   ]
  },
  {
   "cell_type": "code",
   "execution_count": 119,
   "metadata": {},
   "outputs": [
    {
     "data": {
      "text/plain": [
       "(11316, 100, 100)"
      ]
     },
     "execution_count": 119,
     "metadata": {},
     "output_type": "execute_result"
    }
   ],
   "source": [
    "X.shape"
   ]
  },
  {
   "cell_type": "code",
   "execution_count": 120,
   "metadata": {},
   "outputs": [
    {
     "data": {
      "text/plain": [
       "(11316, 100, 100, 1)"
      ]
     },
     "execution_count": 120,
     "metadata": {},
     "output_type": "execute_result"
    }
   ],
   "source": [
    "X = X.reshape(-1,100,100,1)\n",
    "X.shape"
   ]
  },
  {
   "cell_type": "code",
   "execution_count": 121,
   "metadata": {},
   "outputs": [
    {
     "data": {
      "text/html": [
       "<div>\n",
       "<style scoped>\n",
       "    .dataframe tbody tr th:only-of-type {\n",
       "        vertical-align: middle;\n",
       "    }\n",
       "\n",
       "    .dataframe tbody tr th {\n",
       "        vertical-align: top;\n",
       "    }\n",
       "\n",
       "    .dataframe thead th {\n",
       "        text-align: right;\n",
       "    }\n",
       "</style>\n",
       "<table border=\"1\" class=\"dataframe\">\n",
       "  <thead>\n",
       "    <tr style=\"text-align: right;\">\n",
       "      <th></th>\n",
       "      <th>scan</th>\n",
       "      <th>slice</th>\n",
       "    </tr>\n",
       "  </thead>\n",
       "  <tbody>\n",
       "    <tr>\n",
       "      <th>0</th>\n",
       "      <td>3000566</td>\n",
       "      <td>80</td>\n",
       "    </tr>\n",
       "    <tr>\n",
       "      <th>1</th>\n",
       "      <td>3000566</td>\n",
       "      <td>52</td>\n",
       "    </tr>\n",
       "    <tr>\n",
       "      <th>2</th>\n",
       "      <td>3000566</td>\n",
       "      <td>42</td>\n",
       "    </tr>\n",
       "    <tr>\n",
       "      <th>3</th>\n",
       "      <td>3000566</td>\n",
       "      <td>59</td>\n",
       "    </tr>\n",
       "    <tr>\n",
       "      <th>4</th>\n",
       "      <td>3000566</td>\n",
       "      <td>28</td>\n",
       "    </tr>\n",
       "  </tbody>\n",
       "</table>\n",
       "</div>"
      ],
      "text/plain": [
       "      scan slice\n",
       "0  3000566    80\n",
       "1  3000566    52\n",
       "2  3000566    42\n",
       "3  3000566    59\n",
       "4  3000566    28"
      ]
     },
     "execution_count": 121,
     "metadata": {},
     "output_type": "execute_result"
    }
   ],
   "source": [
    "loaded_images.head()"
   ]
  },
  {
   "cell_type": "code",
   "execution_count": 122,
   "metadata": {},
   "outputs": [
    {
     "data": {
      "text/html": [
       "<div>\n",
       "<style scoped>\n",
       "    .dataframe tbody tr th:only-of-type {\n",
       "        vertical-align: middle;\n",
       "    }\n",
       "\n",
       "    .dataframe tbody tr th {\n",
       "        vertical-align: top;\n",
       "    }\n",
       "\n",
       "    .dataframe thead th {\n",
       "        text-align: right;\n",
       "    }\n",
       "</style>\n",
       "<table border=\"1\" class=\"dataframe\">\n",
       "  <thead>\n",
       "    <tr style=\"text-align: right;\">\n",
       "      <th></th>\n",
       "      <th>scan</th>\n",
       "      <th>slice</th>\n",
       "      <th>has_tumor</th>\n",
       "    </tr>\n",
       "  </thead>\n",
       "  <tbody>\n",
       "    <tr>\n",
       "      <th>0</th>\n",
       "      <td>3000566</td>\n",
       "      <td>43</td>\n",
       "      <td>1</td>\n",
       "    </tr>\n",
       "    <tr>\n",
       "      <th>1</th>\n",
       "      <td>3000522</td>\n",
       "      <td>77</td>\n",
       "      <td>1</td>\n",
       "    </tr>\n",
       "    <tr>\n",
       "      <th>2</th>\n",
       "      <td>3000611</td>\n",
       "      <td>57</td>\n",
       "      <td>1</td>\n",
       "    </tr>\n",
       "    <tr>\n",
       "      <th>3</th>\n",
       "      <td>3000611</td>\n",
       "      <td>56</td>\n",
       "      <td>1</td>\n",
       "    </tr>\n",
       "    <tr>\n",
       "      <th>4</th>\n",
       "      <td>3000611</td>\n",
       "      <td>65</td>\n",
       "      <td>1</td>\n",
       "    </tr>\n",
       "  </tbody>\n",
       "</table>\n",
       "</div>"
      ],
      "text/plain": [
       "      scan  slice  has_tumor\n",
       "0  3000566     43          1\n",
       "1  3000522     77          1\n",
       "2  3000611     57          1\n",
       "3  3000611     56          1\n",
       "4  3000611     65          1"
      ]
     },
     "execution_count": 122,
     "metadata": {},
     "output_type": "execute_result"
    }
   ],
   "source": [
    "to_add = cases[['scan', 'slice']].copy()\n",
    "to_add['has_tumor'] = 1\n",
    "to_add.head()"
   ]
  },
  {
   "cell_type": "code",
   "execution_count": 132,
   "metadata": {},
   "outputs": [],
   "source": [
    "to_add = to_add.drop_duplicates(subset=['scan', 'slice'], keep='last')"
   ]
  },
  {
   "cell_type": "code",
   "execution_count": 133,
   "metadata": {},
   "outputs": [
    {
     "data": {
      "text/plain": [
       "11316"
      ]
     },
     "execution_count": 133,
     "metadata": {},
     "output_type": "execute_result"
    }
   ],
   "source": [
    "len(loaded_images)"
   ]
  },
  {
   "cell_type": "code",
   "execution_count": 134,
   "metadata": {},
   "outputs": [
    {
     "data": {
      "text/html": [
       "<div>\n",
       "<style scoped>\n",
       "    .dataframe tbody tr th:only-of-type {\n",
       "        vertical-align: middle;\n",
       "    }\n",
       "\n",
       "    .dataframe tbody tr th {\n",
       "        vertical-align: top;\n",
       "    }\n",
       "\n",
       "    .dataframe thead th {\n",
       "        text-align: right;\n",
       "    }\n",
       "</style>\n",
       "<table border=\"1\" class=\"dataframe\">\n",
       "  <thead>\n",
       "    <tr style=\"text-align: right;\">\n",
       "      <th></th>\n",
       "      <th>scan</th>\n",
       "      <th>slice</th>\n",
       "      <th>has_tumor</th>\n",
       "    </tr>\n",
       "  </thead>\n",
       "  <tbody>\n",
       "    <tr>\n",
       "      <th>0</th>\n",
       "      <td>3000566</td>\n",
       "      <td>80</td>\n",
       "      <td>0.0</td>\n",
       "    </tr>\n",
       "    <tr>\n",
       "      <th>1</th>\n",
       "      <td>3000566</td>\n",
       "      <td>52</td>\n",
       "      <td>0.0</td>\n",
       "    </tr>\n",
       "    <tr>\n",
       "      <th>2</th>\n",
       "      <td>3000566</td>\n",
       "      <td>42</td>\n",
       "      <td>0.0</td>\n",
       "    </tr>\n",
       "    <tr>\n",
       "      <th>3</th>\n",
       "      <td>3000566</td>\n",
       "      <td>59</td>\n",
       "      <td>0.0</td>\n",
       "    </tr>\n",
       "    <tr>\n",
       "      <th>4</th>\n",
       "      <td>3000566</td>\n",
       "      <td>28</td>\n",
       "      <td>0.0</td>\n",
       "    </tr>\n",
       "  </tbody>\n",
       "</table>\n",
       "</div>"
      ],
      "text/plain": [
       "      scan  slice  has_tumor\n",
       "0  3000566     80        0.0\n",
       "1  3000566     52        0.0\n",
       "2  3000566     42        0.0\n",
       "3  3000566     59        0.0\n",
       "4  3000566     28        0.0"
      ]
     },
     "execution_count": 134,
     "metadata": {},
     "output_type": "execute_result"
    }
   ],
   "source": [
    "loaded_images_grouped = pd.merge(loaded_images,\n",
    "                 to_add,\n",
    "                 on=['scan','slice'],\n",
    "                 how = 'left',\n",
    "                                validate = 'm:1')\n",
    "loaded_images_grouped.fillna(0, inplace=True)\n",
    "loaded_images_grouped.head()"
   ]
  },
  {
   "cell_type": "code",
   "execution_count": 135,
   "metadata": {},
   "outputs": [
    {
     "data": {
      "text/plain": [
       "11316"
      ]
     },
     "execution_count": 135,
     "metadata": {},
     "output_type": "execute_result"
    }
   ],
   "source": [
    "len(loaded_images_grouped)"
   ]
  },
  {
   "cell_type": "code",
   "execution_count": 136,
   "metadata": {},
   "outputs": [
    {
     "data": {
      "text/html": [
       "<div>\n",
       "<style scoped>\n",
       "    .dataframe tbody tr th:only-of-type {\n",
       "        vertical-align: middle;\n",
       "    }\n",
       "\n",
       "    .dataframe tbody tr th {\n",
       "        vertical-align: top;\n",
       "    }\n",
       "\n",
       "    .dataframe thead th {\n",
       "        text-align: right;\n",
       "    }\n",
       "</style>\n",
       "<table border=\"1\" class=\"dataframe\">\n",
       "  <thead>\n",
       "    <tr style=\"text-align: right;\">\n",
       "      <th></th>\n",
       "      <th>scan</th>\n",
       "      <th>slice</th>\n",
       "      <th>has_tumor</th>\n",
       "    </tr>\n",
       "  </thead>\n",
       "  <tbody>\n",
       "    <tr>\n",
       "      <th>0</th>\n",
       "      <td>3000566</td>\n",
       "      <td>80</td>\n",
       "      <td>0.0</td>\n",
       "    </tr>\n",
       "    <tr>\n",
       "      <th>1</th>\n",
       "      <td>3000566</td>\n",
       "      <td>52</td>\n",
       "      <td>0.0</td>\n",
       "    </tr>\n",
       "    <tr>\n",
       "      <th>2</th>\n",
       "      <td>3000566</td>\n",
       "      <td>42</td>\n",
       "      <td>0.0</td>\n",
       "    </tr>\n",
       "    <tr>\n",
       "      <th>3</th>\n",
       "      <td>3000566</td>\n",
       "      <td>59</td>\n",
       "      <td>0.0</td>\n",
       "    </tr>\n",
       "    <tr>\n",
       "      <th>4</th>\n",
       "      <td>3000566</td>\n",
       "      <td>28</td>\n",
       "      <td>0.0</td>\n",
       "    </tr>\n",
       "  </tbody>\n",
       "</table>\n",
       "</div>"
      ],
      "text/plain": [
       "      scan  slice  has_tumor\n",
       "0  3000566     80        0.0\n",
       "1  3000566     52        0.0\n",
       "2  3000566     42        0.0\n",
       "3  3000566     59        0.0\n",
       "4  3000566     28        0.0"
      ]
     },
     "execution_count": 136,
     "metadata": {},
     "output_type": "execute_result"
    }
   ],
   "source": [
    "loaded_images_grouped.head()"
   ]
  },
  {
   "cell_type": "code",
   "execution_count": 137,
   "metadata": {},
   "outputs": [
    {
     "data": {
      "text/html": [
       "<div>\n",
       "<style scoped>\n",
       "    .dataframe tbody tr th:only-of-type {\n",
       "        vertical-align: middle;\n",
       "    }\n",
       "\n",
       "    .dataframe tbody tr th {\n",
       "        vertical-align: top;\n",
       "    }\n",
       "\n",
       "    .dataframe thead th {\n",
       "        text-align: right;\n",
       "    }\n",
       "</style>\n",
       "<table border=\"1\" class=\"dataframe\">\n",
       "  <thead>\n",
       "    <tr style=\"text-align: right;\">\n",
       "      <th></th>\n",
       "      <th>scan</th>\n",
       "      <th>slice</th>\n",
       "      <th>has_tumor</th>\n",
       "    </tr>\n",
       "  </thead>\n",
       "  <tbody>\n",
       "    <tr>\n",
       "      <th>0</th>\n",
       "      <td>3000566</td>\n",
       "      <td>43</td>\n",
       "      <td>1</td>\n",
       "    </tr>\n",
       "    <tr>\n",
       "      <th>1</th>\n",
       "      <td>3000522</td>\n",
       "      <td>77</td>\n",
       "      <td>1</td>\n",
       "    </tr>\n",
       "    <tr>\n",
       "      <th>2</th>\n",
       "      <td>3000611</td>\n",
       "      <td>57</td>\n",
       "      <td>1</td>\n",
       "    </tr>\n",
       "    <tr>\n",
       "      <th>3</th>\n",
       "      <td>3000611</td>\n",
       "      <td>56</td>\n",
       "      <td>1</td>\n",
       "    </tr>\n",
       "    <tr>\n",
       "      <th>4</th>\n",
       "      <td>3000611</td>\n",
       "      <td>65</td>\n",
       "      <td>1</td>\n",
       "    </tr>\n",
       "  </tbody>\n",
       "</table>\n",
       "</div>"
      ],
      "text/plain": [
       "      scan  slice  has_tumor\n",
       "0  3000566     43          1\n",
       "1  3000522     77          1\n",
       "2  3000611     57          1\n",
       "3  3000611     56          1\n",
       "4  3000611     65          1"
      ]
     },
     "execution_count": 137,
     "metadata": {},
     "output_type": "execute_result"
    }
   ],
   "source": [
    "to_add.head()"
   ]
  },
  {
   "cell_type": "code",
   "execution_count": 138,
   "metadata": {},
   "outputs": [
    {
     "name": "stdout",
     "output_type": "stream",
     "text": [
      "<class 'pandas.core.frame.DataFrame'>\n",
      "Int64Index: 11316 entries, 0 to 11315\n",
      "Data columns (total 3 columns):\n",
      "scan         11316 non-null int64\n",
      "slice        11316 non-null int64\n",
      "has_tumor    11316 non-null float64\n",
      "dtypes: float64(1), int64(2)\n",
      "memory usage: 353.6 KB\n"
     ]
    }
   ],
   "source": [
    "loaded_images_grouped.info()"
   ]
  },
  {
   "cell_type": "code",
   "execution_count": 139,
   "metadata": {},
   "outputs": [
    {
     "data": {
      "image/png": "[encoded data removed]",
      "text/plain": [
       "<Figure size 432x288 with 1 Axes>"
      ]
     },
     "metadata": {},
     "output_type": "display_data"
    }
   ],
   "source": [
    "loaded_images_grouped['has_tumor'].value_counts().plot(kind='pie');"
   ]
  },
  {
   "cell_type": "code",
   "execution_count": 140,
   "metadata": {},
   "outputs": [
    {
     "data": {
      "text/plain": [
       "0.0    11068\n",
       "1.0      248\n",
       "Name: has_tumor, dtype: int64"
      ]
     },
     "execution_count": 140,
     "metadata": {},
     "output_type": "execute_result"
    }
   ],
   "source": [
    "loaded_images_grouped['has_tumor'].value_counts()"
   ]
  },
  {
   "cell_type": "code",
   "execution_count": 141,
   "metadata": {},
   "outputs": [],
   "source": [
    "loaded_images_grouped['ID'] = np.arange(len(loaded_images_grouped))"
   ]
  },
  {
   "cell_type": "code",
   "execution_count": 142,
   "metadata": {},
   "outputs": [
    {
     "data": {
      "text/html": [
       "<div>\n",
       "<style scoped>\n",
       "    .dataframe tbody tr th:only-of-type {\n",
       "        vertical-align: middle;\n",
       "    }\n",
       "\n",
       "    .dataframe tbody tr th {\n",
       "        vertical-align: top;\n",
       "    }\n",
       "\n",
       "    .dataframe thead th {\n",
       "        text-align: right;\n",
       "    }\n",
       "</style>\n",
       "<table border=\"1\" class=\"dataframe\">\n",
       "  <thead>\n",
       "    <tr style=\"text-align: right;\">\n",
       "      <th></th>\n",
       "      <th>scan</th>\n",
       "      <th>slice</th>\n",
       "      <th>has_tumor</th>\n",
       "      <th>ID</th>\n",
       "    </tr>\n",
       "  </thead>\n",
       "  <tbody>\n",
       "    <tr>\n",
       "      <th>0</th>\n",
       "      <td>3000566</td>\n",
       "      <td>80</td>\n",
       "      <td>0.0</td>\n",
       "      <td>0</td>\n",
       "    </tr>\n",
       "    <tr>\n",
       "      <th>1</th>\n",
       "      <td>3000566</td>\n",
       "      <td>52</td>\n",
       "      <td>0.0</td>\n",
       "      <td>1</td>\n",
       "    </tr>\n",
       "    <tr>\n",
       "      <th>2</th>\n",
       "      <td>3000566</td>\n",
       "      <td>42</td>\n",
       "      <td>0.0</td>\n",
       "      <td>2</td>\n",
       "    </tr>\n",
       "    <tr>\n",
       "      <th>3</th>\n",
       "      <td>3000566</td>\n",
       "      <td>59</td>\n",
       "      <td>0.0</td>\n",
       "      <td>3</td>\n",
       "    </tr>\n",
       "    <tr>\n",
       "      <th>4</th>\n",
       "      <td>3000566</td>\n",
       "      <td>28</td>\n",
       "      <td>0.0</td>\n",
       "      <td>4</td>\n",
       "    </tr>\n",
       "    <tr>\n",
       "      <th>5</th>\n",
       "      <td>3000566</td>\n",
       "      <td>8</td>\n",
       "      <td>0.0</td>\n",
       "      <td>5</td>\n",
       "    </tr>\n",
       "    <tr>\n",
       "      <th>6</th>\n",
       "      <td>3000566</td>\n",
       "      <td>86</td>\n",
       "      <td>0.0</td>\n",
       "      <td>6</td>\n",
       "    </tr>\n",
       "    <tr>\n",
       "      <th>7</th>\n",
       "      <td>3000566</td>\n",
       "      <td>111</td>\n",
       "      <td>0.0</td>\n",
       "      <td>7</td>\n",
       "    </tr>\n",
       "    <tr>\n",
       "      <th>8</th>\n",
       "      <td>3000566</td>\n",
       "      <td>88</td>\n",
       "      <td>0.0</td>\n",
       "      <td>8</td>\n",
       "    </tr>\n",
       "    <tr>\n",
       "      <th>9</th>\n",
       "      <td>3000566</td>\n",
       "      <td>116</td>\n",
       "      <td>0.0</td>\n",
       "      <td>9</td>\n",
       "    </tr>\n",
       "  </tbody>\n",
       "</table>\n",
       "</div>"
      ],
      "text/plain": [
       "      scan  slice  has_tumor  ID\n",
       "0  3000566     80        0.0   0\n",
       "1  3000566     52        0.0   1\n",
       "2  3000566     42        0.0   2\n",
       "3  3000566     59        0.0   3\n",
       "4  3000566     28        0.0   4\n",
       "5  3000566      8        0.0   5\n",
       "6  3000566     86        0.0   6\n",
       "7  3000566    111        0.0   7\n",
       "8  3000566     88        0.0   8\n",
       "9  3000566    116        0.0   9"
      ]
     },
     "execution_count": 142,
     "metadata": {},
     "output_type": "execute_result"
    }
   ],
   "source": [
    "loaded_images_grouped.head(10)"
   ]
  },
  {
   "cell_type": "code",
   "execution_count": 143,
   "metadata": {},
   "outputs": [
    {
     "data": {
      "text/plain": [
       "11316"
      ]
     },
     "execution_count": 143,
     "metadata": {},
     "output_type": "execute_result"
    }
   ],
   "source": [
    "len(loaded_images_grouped)"
   ]
  },
  {
   "cell_type": "code",
   "execution_count": 144,
   "metadata": {},
   "outputs": [],
   "source": [
    "tumor = loaded_images_grouped[loaded_images_grouped.has_tumor==1]\n",
    "not_tumor = loaded_images_grouped[loaded_images_grouped.has_tumor==0]"
   ]
  },
  {
   "cell_type": "code",
   "execution_count": 145,
   "metadata": {},
   "outputs": [
    {
     "data": {
      "text/html": [
       "<div>\n",
       "<style scoped>\n",
       "    .dataframe tbody tr th:only-of-type {\n",
       "        vertical-align: middle;\n",
       "    }\n",
       "\n",
       "    .dataframe tbody tr th {\n",
       "        vertical-align: top;\n",
       "    }\n",
       "\n",
       "    .dataframe thead th {\n",
       "        text-align: right;\n",
       "    }\n",
       "</style>\n",
       "<table border=\"1\" class=\"dataframe\">\n",
       "  <thead>\n",
       "    <tr style=\"text-align: right;\">\n",
       "      <th></th>\n",
       "      <th>scan</th>\n",
       "      <th>slice</th>\n",
       "      <th>has_tumor</th>\n",
       "      <th>ID</th>\n",
       "    </tr>\n",
       "  </thead>\n",
       "  <tbody>\n",
       "    <tr>\n",
       "      <th>40</th>\n",
       "      <td>3000566</td>\n",
       "      <td>43</td>\n",
       "      <td>1.0</td>\n",
       "      <td>40</td>\n",
       "    </tr>\n",
       "    <tr>\n",
       "      <th>305</th>\n",
       "      <td>3000522</td>\n",
       "      <td>77</td>\n",
       "      <td>1.0</td>\n",
       "      <td>305</td>\n",
       "    </tr>\n",
       "    <tr>\n",
       "      <th>480</th>\n",
       "      <td>3000611</td>\n",
       "      <td>56</td>\n",
       "      <td>1.0</td>\n",
       "      <td>480</td>\n",
       "    </tr>\n",
       "    <tr>\n",
       "      <th>508</th>\n",
       "      <td>3000611</td>\n",
       "      <td>65</td>\n",
       "      <td>1.0</td>\n",
       "      <td>508</td>\n",
       "    </tr>\n",
       "    <tr>\n",
       "      <th>510</th>\n",
       "      <td>3000611</td>\n",
       "      <td>74</td>\n",
       "      <td>1.0</td>\n",
       "      <td>510</td>\n",
       "    </tr>\n",
       "  </tbody>\n",
       "</table>\n",
       "</div>"
      ],
      "text/plain": [
       "        scan  slice  has_tumor   ID\n",
       "40   3000566     43        1.0   40\n",
       "305  3000522     77        1.0  305\n",
       "480  3000611     56        1.0  480\n",
       "508  3000611     65        1.0  508\n",
       "510  3000611     74        1.0  510"
      ]
     },
     "execution_count": 145,
     "metadata": {},
     "output_type": "execute_result"
    }
   ],
   "source": [
    "tumor.head()"
   ]
  },
  {
   "cell_type": "code",
   "execution_count": 146,
   "metadata": {},
   "outputs": [
    {
     "data": {
      "text/plain": [
       "(248, 4)"
      ]
     },
     "execution_count": 146,
     "metadata": {},
     "output_type": "execute_result"
    }
   ],
   "source": [
    "tumor.shape"
   ]
  },
  {
   "cell_type": "code",
   "execution_count": 147,
   "metadata": {},
   "outputs": [
    {
     "data": {
      "text/plain": [
       "(11068, 4)"
      ]
     },
     "execution_count": 147,
     "metadata": {},
     "output_type": "execute_result"
    }
   ],
   "source": [
    "not_tumor.shape"
   ]
  },
  {
   "cell_type": "code",
   "execution_count": 148,
   "metadata": {},
   "outputs": [],
   "source": [
    "from sklearn.utils import resample\n",
    "tumor_upsampled = resample(tumor,\n",
    "                          replace=True, # sample with replacement\n",
    "                          n_samples=750, # match number in majority class\n",
    "                          random_state=12) # reproducible results\n",
    "\n",
    "not_tumor_downsampled = resample(not_tumor,\n",
    "                          replace=False, # sample with replacement\n",
    "                          n_samples=750, # match number in majority class\n",
    "                          random_state=12) # reproducible results"
   ]
  },
  {
   "cell_type": "code",
   "execution_count": 149,
   "metadata": {},
   "outputs": [],
   "source": [
    "resampled = pd.concat([tumor_upsampled, not_tumor_downsampled])"
   ]
  },
  {
   "cell_type": "code",
   "execution_count": 150,
   "metadata": {},
   "outputs": [
    {
     "data": {
      "text/plain": [
       "(1500, 4)"
      ]
     },
     "execution_count": 150,
     "metadata": {},
     "output_type": "execute_result"
    }
   ],
   "source": [
    "resampled.shape"
   ]
  },
  {
   "cell_type": "code",
   "execution_count": 151,
   "metadata": {},
   "outputs": [
    {
     "data": {
      "text/plain": [
       "(1500, 100, 100, 1)"
      ]
     },
     "execution_count": 151,
     "metadata": {},
     "output_type": "execute_result"
    }
   ],
   "source": [
    "X_resampled = []\n",
    "for row in resampled.ID:\n",
    "    X_resampled.append(X[row])\n",
    "X_resampled = np.array(X_resampled)\n",
    "X_resampled.shape"
   ]
  },
  {
   "cell_type": "code",
   "execution_count": 154,
   "metadata": {},
   "outputs": [],
   "source": [
    "y = resampled['has_tumor'].values\n",
    "y = np.array(y)\n",
    "y = to_categorical(y, num_classes = 2)    # tem tumor = [0,1], sem tumor = [1,0]"
   ]
  },
  {
   "cell_type": "code",
   "execution_count": 156,
   "metadata": {},
   "outputs": [
    {
     "name": "stdout",
     "output_type": "stream",
     "text": [
      "(1050, 100, 100, 1) train samples\n",
      "(450, 100, 100, 1) test samples\n",
      "(1050, 2) respostas do treino\n",
      "(450, 2) respostas do teste\n"
     ]
    }
   ],
   "source": [
    "X_train, X_test, y_train, y_test = train_test_split(X_resampled, y, test_size = 0.3, random_state=12, stratify=y)\n",
    "\n",
    "print(X_train.shape, 'train samples')\n",
    "print(X_test.shape, 'test samples')\n",
    "print(y_train.shape, 'respostas do treino')\n",
    "print(y_test.shape, 'respostas do teste')"
   ]
  },
  {
   "cell_type": "code",
   "execution_count": 308,
   "metadata": {
    "scrolled": true
   },
   "outputs": [
    {
     "name": "stdout",
     "output_type": "stream",
     "text": [
      "_________________________________________________________________\n",
      "Layer (type)                 Output Shape              Param #   \n",
      "=================================================================\n",
      "conv2d_14 (Conv2D)           (None, 100, 100, 32)      160       \n",
      "_________________________________________________________________\n",
      "flatten_12 (Flatten)         (None, 320000)            0         \n",
      "_________________________________________________________________\n",
      "dense_17 (Dense)             (None, 10)                3200010   \n",
      "_________________________________________________________________\n",
      "dense_18 (Dense)             (None, 2)                 22        \n",
      "=================================================================\n",
      "Total params: 3,200,192\n",
      "Trainable params: 3,200,192\n",
      "Non-trainable params: 0\n",
      "_________________________________________________________________\n"
     ]
    }
   ],
   "source": [
    "model = Sequential()\n",
    "\n",
    "model.add(Conv2D(filters = 32, kernel_size = (2,2),padding = 'Same', \n",
    "                 activation ='relu', input_shape = (100,100,1)))\n",
    "\n",
    "model.add(Flatten())\n",
    "model.add(Dense(10, activation = \"relu\"))\n",
    "model.add(Dense(2, activation = \"softmax\"))   #NUMERO DE OUTPUTS\n",
    "\n",
    "model.summary()"
   ]
  },
  {
   "cell_type": "code",
   "execution_count": 309,
   "metadata": {},
   "outputs": [],
   "source": [
    "# Define the optimizer\n",
    "optimizer = RMSprop(lr=0.001, rho=0.9, epsilon=1e-08, decay=0.0)"
   ]
  },
  {
   "cell_type": "code",
   "execution_count": 310,
   "metadata": {},
   "outputs": [],
   "source": [
    "# Compile the model\n",
    "model.compile(optimizer = optimizer\n",
    "              , loss = \"categorical_crossentropy\"\n",
    "              , metrics=[\"accuracy\"])"
   ]
  },
  {
   "cell_type": "code",
   "execution_count": 311,
   "metadata": {},
   "outputs": [],
   "source": [
    "# Set a learning rate annealer\n",
    "learning_rate_reduction = ReduceLROnPlateau(monitor='val_acc', \n",
    "                                            patience=3, \n",
    "                                            verbose=0, \n",
    "                                            factor=0.5, \n",
    "                                            min_lr=0.00001)"
   ]
  },
  {
   "cell_type": "code",
   "execution_count": 312,
   "metadata": {},
   "outputs": [],
   "source": [
    "epochs = 45\n",
    "batch_size = 40"
   ]
  },
  {
   "cell_type": "code",
   "execution_count": 313,
   "metadata": {},
   "outputs": [],
   "source": [
    "# data augmentation to prevent overfitting\n",
    "\n",
    "datagen = ImageDataGenerator(\n",
    "        featurewise_center=False,  # set input mean to 0 over the dataset\n",
    "        samplewise_center=False,  # set each sample mean to 0\n",
    "        featurewise_std_normalization=False,  # divide inputs by std of the dataset\n",
    "        samplewise_std_normalization=False,  # divide each input by its std\n",
    "        zca_whitening=False,  # apply ZCA whitening\n",
    "        rotation_range=3,  # randomly rotate images in the range (degrees, 0 to 180)\n",
    "        zoom_range = 0.05, # Randomly zoom image \n",
    "        width_shift_range=False,  # randomly shift images horizontally (fraction of total width)\n",
    "        height_shift_range=False,  # randomly shift images vertically (fraction of total height)\n",
    "        horizontal_flip=False,  # randomly flip images\n",
    "        vertical_flip=False)  # randomly flip images\n",
    "\n",
    "\n",
    "datagen.fit(X_train)"
   ]
  },
  {
   "cell_type": "code",
   "execution_count": 314,
   "metadata": {
    "scrolled": false
   },
   "outputs": [],
   "source": [
    "# Fit the model\n",
    "history = model.fit_generator(datagen.flow(X_train,y_train, batch_size=batch_size),\n",
    "                              epochs = epochs, \n",
    "                              validation_data = (X_test,y_test),\n",
    "                              verbose = 0, \n",
    "                              steps_per_epoch=X_train.shape[0] // batch_size\n",
    "                              , callbacks=[learning_rate_reduction])"
   ]
  },
  {
   "cell_type": "code",
   "execution_count": 315,
   "metadata": {},
   "outputs": [
    {
     "data": {
      "image/png": "[encoded data removed]",
      "text/plain": [
       "<Figure size 648x360 with 2 Axes>"
      ]
     },
     "metadata": {},
     "output_type": "display_data"
    }
   ],
   "source": [
    "# Plot the loss and accuracy curves for training and validation \n",
    "fig, ax = plt.subplots(2,1, figsize=(9, 5))\n",
    "ax[0].plot(history.history['loss'], color='b', label=\"Training loss\")\n",
    "ax[0].plot(history.history['val_loss'], color='r', label=\"validation loss\",axes =ax[0])\n",
    "legend = ax[0].legend(loc='best', shadow=True)\n",
    "\n",
    "ax[1].plot(history.history['acc'], color='b', label=\"Training accuracy\")\n",
    "ax[1].plot(history.history['val_acc'], color='r',label=\"Validation accuracy\")\n",
    "legend = ax[1].legend(loc='best', shadow=True)"
   ]
  },
  {
   "cell_type": "code",
   "execution_count": 316,
   "metadata": {},
   "outputs": [],
   "source": [
    "predictions = model.predict_classes(X_test)"
   ]
  },
  {
   "cell_type": "code",
   "execution_count": 317,
   "metadata": {},
   "outputs": [
    {
     "name": "stdout",
     "output_type": "stream",
     "text": [
      "Acuracidade do modelo:  87.11 %\n",
      "Demais Indicadores: \n",
      "\n",
      "   recall_score:  0.85\n",
      "   precision_score:  0.9\n",
      "   f1_score:  0.88\n",
      "   roc:  0.87\n"
     ]
    }
   ],
   "source": [
    "print('Acuracidade do modelo: ',round(accuracy_score(predictions,np.argmax(y_test, axis = 1))*100,2), '%')\n",
    "print('Demais Indicadores: \\n')\n",
    "print('   recall_score: ',round(recall_score(predictions,np.argmax(y_test, axis = 1)),2))\n",
    "print('   precision_score: ',round(precision_score(predictions,np.argmax(y_test, axis = 1)),2))\n",
    "print('   f1_score: ',round(f1_score(predictions,np.argmax(y_test, axis = 1)),2))\n",
    "print('   roc: ',round(roc_auc_score(predictions,np.argmax(y_test, axis = 1)),2))"
   ]
  },
  {
   "cell_type": "code",
   "execution_count": 318,
   "metadata": {},
   "outputs": [
    {
     "name": "stdout",
     "output_type": "stream",
     "text": [
      "              precision    recall  f1-score   support\n",
      "\n",
      "           0       0.84      0.90      0.87       211\n",
      "           1       0.90      0.85      0.88       239\n",
      "\n",
      "   micro avg       0.87      0.87      0.87       450\n",
      "   macro avg       0.87      0.87      0.87       450\n",
      "weighted avg       0.87      0.87      0.87       450\n",
      "\n"
     ]
    }
   ],
   "source": [
    "print(classification_report(predictions,np.argmax(y_test, axis = 1)))"
   ]
  },
  {
   "cell_type": "code",
   "execution_count": 319,
   "metadata": {},
   "outputs": [],
   "source": [
    "def plot_confusion_matrix(cm, target_names, title='Confusion matrix'):\n",
    "    \n",
    "    accuracy = np.trace(cm) / float(np.sum(cm))\n",
    "    misclass = 1 - accuracy\n",
    "    cmap = plt.get_cmap('Blues')\n",
    "    plt.rcParams.update(plt.rcParamsDefault)\n",
    "    %matplotlib inline\n",
    "    \n",
    "    #plt.figure(figsize=(8, 6))\n",
    "    plt.imshow(cm, interpolation='nearest', cmap=cmap)\n",
    "    plt.title(title)\n",
    "    plt.colorbar()\n",
    "\n",
    "    if target_names is not None:\n",
    "        tick_marks = np.arange(len(target_names))\n",
    "        plt.xticks(tick_marks, target_names, rotation=45)\n",
    "        plt.yticks(tick_marks, target_names)\n",
    "        \n",
    "    thresh = cm.max() / 2\n",
    "    for i, j in itertools.product(range(cm.shape[0]), range(cm.shape[1])):\n",
    "        plt.text(j, i, \"{:,}\".format(cm[i, j]),\n",
    "                     horizontalalignment=\"center\",\n",
    "                     color=\"white\" if cm[i, j] > thresh else \"black\")\n",
    "\n",
    "    plt.tight_layout()\n",
    "    plt.ylabel('True label')\n",
    "    plt.xlabel('Predicted label\\naccuracy={:0.3f}; misclass={:0.3f}'.format(accuracy, misclass))\n",
    "    plt.show()"
   ]
  },
  {
   "cell_type": "code",
   "execution_count": 320,
   "metadata": {},
   "outputs": [
    {
     "data": {
      "image/png": "[encoded data removed]",
      "text/plain": [
       "<Figure size 432x288 with 2 Axes>"
      ]
     },
     "metadata": {
      "needs_background": "light"
     },
     "output_type": "display_data"
    }
   ],
   "source": [
    "plot_confusion_matrix(confusion_matrix(predictions,np.argmax(y_test, axis = 1)),target_names=['tumor','not_tumor'])"
   ]
  },
  {
   "cell_type": "code",
   "execution_count": 321,
   "metadata": {},
   "outputs": [
    {
     "name": "stdout",
     "output_type": "stream",
     "text": [
      "AUC: 0.921\n"
     ]
    },
    {
     "data": {
      "image/png": "[encoded data removed]",
      "text/plain": [
       "<Figure size 432x288 with 1 Axes>"
      ]
     },
     "metadata": {
      "needs_background": "light"
     },
     "output_type": "display_data"
    }
   ],
   "source": [
    "# predict probabilities\n",
    "probs = model.predict(X_test)\n",
    "# keep probabilities for the positive outcome only\n",
    "probs = probs[:, 1]\n",
    "# calculate AUC\n",
    "auc = roc_auc_score(np.argmax(y_test, axis = 1), probs)\n",
    "print('AUC: %.3f' % auc)\n",
    "# calculate roc curve\n",
    "fpr, tpr, thresholds = roc_curve(np.argmax(y_test, axis = 1), probs)\n",
    "# plot\n",
    "plt.figure()\n",
    "lw = 2\n",
    "plt.plot(fpr, tpr, color='darkorange',\n",
    "         lw=lw, label='ROC curve (area = %0.2f)' % auc)\n",
    "plt.plot([0, 1], [0, 1], color='navy', lw=lw, linestyle='--')\n",
    "plt.xlim([0.0, 1.0])\n",
    "plt.ylim([0.0, 1.05])\n",
    "plt.xlabel('False Positive Rate')\n",
    "plt.ylabel('True Positive Rate')\n",
    "plt.title('Receiver operating characteristic example')\n",
    "plt.legend(loc=\"lower right\")\n",
    "plt.show()"
   ]
  },
  {
   "cell_type": "code",
   "execution_count": 322,
   "metadata": {},
   "outputs": [],
   "source": [
    "# Salvando os pesos do modelo com bom desempenho\n",
    "\n",
    "model.save_weights('model_weights_last.h5')"
   ]
  },
  {
   "cell_type": "code",
   "execution_count": 325,
   "metadata": {},
   "outputs": [],
   "source": [
    "# Salvando o modelo em si\n",
    "\n",
    "model.save('my_model_last')\n",
    "\n"
   ]
  },
  {
   "cell_type": "code",
   "execution_count": 329,
   "metadata": {},
   "outputs": [],
   "source": [
    "# save as JSON\n",
    "import json\n",
    "json_string = model.to_json()\n",
    "\n",
    "with open('model.json','w') as f:\n",
    "    json.dump(json_string, f)\n"
   ]
  },
  {
   "cell_type": "code",
   "execution_count": 290,
   "metadata": {},
   "outputs": [],
   "source": [
    "# para carregar\n",
    "\n",
    "'''\n",
    "model.load_weights('my_model_weights.h5')\n",
    "from keras.models import load_model\n",
    "new_model = load_model('my_model')\n",
    "''';"
   ]
  },
  {
   "cell_type": "code",
   "execution_count": 332,
   "metadata": {},
   "outputs": [
    {
     "name": "stdout",
     "output_type": "stream",
     "text": [
      "De um total de 450 errou 58 vezes\n"
     ]
    }
   ],
   "source": [
    "# Display some error results \n",
    "\n",
    "# Errors are difference between predicted labels and true labels\n",
    "errors = (predictions - np.argmax(y_test, axis=1) != 0)\n",
    "print(\"De um total de\",len(predictions), \"errou\", sum(errors), \"vezes\")"
   ]
  },
  {
   "cell_type": "code",
   "execution_count": 333,
   "metadata": {},
   "outputs": [
    {
     "data": {
      "text/plain": [
       "(58, 100, 100, 1)"
      ]
     },
     "execution_count": 333,
     "metadata": {},
     "output_type": "execute_result"
    }
   ],
   "source": [
    "# Dados de entrada dos previstos errados\n",
    "X_test[errors].shape"
   ]
  },
  {
   "cell_type": "code",
   "execution_count": 334,
   "metadata": {},
   "outputs": [
    {
     "data": {
      "text/plain": [
       "(100, 100)"
      ]
     },
     "execution_count": 334,
     "metadata": {},
     "output_type": "execute_result"
    }
   ],
   "source": [
    "# Ajustando dimensões para uma imagem\n",
    "X_test[errors][37].reshape(100,100).shape"
   ]
  },
  {
   "cell_type": "code",
   "execution_count": 335,
   "metadata": {},
   "outputs": [
    {
     "data": {
      "text/plain": [
       "(58,)"
      ]
     },
     "execution_count": 335,
     "metadata": {},
     "output_type": "execute_result"
    }
   ],
   "source": [
    "# Acessando os originais\n",
    "np.argmax(y_test[errors], axis=1).shape"
   ]
  },
  {
   "cell_type": "code",
   "execution_count": 336,
   "metadata": {},
   "outputs": [
    {
     "data": {
      "text/plain": [
       "1"
      ]
     },
     "execution_count": 336,
     "metadata": {},
     "output_type": "execute_result"
    }
   ],
   "source": [
    "# Acessando a resposta original de alguma previsão\n",
    "np.argmax(y_test[errors], axis=1)[1]"
   ]
  },
  {
   "cell_type": "code",
   "execution_count": 337,
   "metadata": {},
   "outputs": [
    {
     "name": "stdout",
     "output_type": "stream",
     "text": [
      "falso positivo\n"
     ]
    },
    {
     "data": {
      "text/html": [
       "<div>\n",
       "<style scoped>\n",
       "    .dataframe tbody tr th:only-of-type {\n",
       "        vertical-align: middle;\n",
       "    }\n",
       "\n",
       "    .dataframe tbody tr th {\n",
       "        vertical-align: top;\n",
       "    }\n",
       "\n",
       "    .dataframe thead th {\n",
       "        text-align: right;\n",
       "    }\n",
       "</style>\n",
       "<table border=\"1\" class=\"dataframe\">\n",
       "  <thead>\n",
       "    <tr style=\"text-align: right;\">\n",
       "      <th></th>\n",
       "      <th>previsao</th>\n",
       "      <th>real</th>\n",
       "    </tr>\n",
       "  </thead>\n",
       "  <tbody>\n",
       "    <tr>\n",
       "      <th>14</th>\n",
       "      <td>1</td>\n",
       "      <td>0</td>\n",
       "    </tr>\n",
       "    <tr>\n",
       "      <th>34</th>\n",
       "      <td>1</td>\n",
       "      <td>0</td>\n",
       "    </tr>\n",
       "    <tr>\n",
       "      <th>76</th>\n",
       "      <td>1</td>\n",
       "      <td>0</td>\n",
       "    </tr>\n",
       "    <tr>\n",
       "      <th>121</th>\n",
       "      <td>1</td>\n",
       "      <td>0</td>\n",
       "    </tr>\n",
       "    <tr>\n",
       "      <th>139</th>\n",
       "      <td>1</td>\n",
       "      <td>0</td>\n",
       "    </tr>\n",
       "    <tr>\n",
       "      <th>145</th>\n",
       "      <td>1</td>\n",
       "      <td>0</td>\n",
       "    </tr>\n",
       "    <tr>\n",
       "      <th>152</th>\n",
       "      <td>1</td>\n",
       "      <td>0</td>\n",
       "    </tr>\n",
       "    <tr>\n",
       "      <th>161</th>\n",
       "      <td>1</td>\n",
       "      <td>0</td>\n",
       "    </tr>\n",
       "    <tr>\n",
       "      <th>164</th>\n",
       "      <td>1</td>\n",
       "      <td>0</td>\n",
       "    </tr>\n",
       "    <tr>\n",
       "      <th>186</th>\n",
       "      <td>1</td>\n",
       "      <td>0</td>\n",
       "    </tr>\n",
       "    <tr>\n",
       "      <th>205</th>\n",
       "      <td>1</td>\n",
       "      <td>0</td>\n",
       "    </tr>\n",
       "    <tr>\n",
       "      <th>214</th>\n",
       "      <td>1</td>\n",
       "      <td>0</td>\n",
       "    </tr>\n",
       "    <tr>\n",
       "      <th>228</th>\n",
       "      <td>1</td>\n",
       "      <td>0</td>\n",
       "    </tr>\n",
       "    <tr>\n",
       "      <th>238</th>\n",
       "      <td>1</td>\n",
       "      <td>0</td>\n",
       "    </tr>\n",
       "    <tr>\n",
       "      <th>239</th>\n",
       "      <td>1</td>\n",
       "      <td>0</td>\n",
       "    </tr>\n",
       "    <tr>\n",
       "      <th>248</th>\n",
       "      <td>1</td>\n",
       "      <td>0</td>\n",
       "    </tr>\n",
       "    <tr>\n",
       "      <th>268</th>\n",
       "      <td>1</td>\n",
       "      <td>0</td>\n",
       "    </tr>\n",
       "    <tr>\n",
       "      <th>271</th>\n",
       "      <td>1</td>\n",
       "      <td>0</td>\n",
       "    </tr>\n",
       "    <tr>\n",
       "      <th>281</th>\n",
       "      <td>1</td>\n",
       "      <td>0</td>\n",
       "    </tr>\n",
       "    <tr>\n",
       "      <th>322</th>\n",
       "      <td>1</td>\n",
       "      <td>0</td>\n",
       "    </tr>\n",
       "    <tr>\n",
       "      <th>332</th>\n",
       "      <td>1</td>\n",
       "      <td>0</td>\n",
       "    </tr>\n",
       "    <tr>\n",
       "      <th>334</th>\n",
       "      <td>1</td>\n",
       "      <td>0</td>\n",
       "    </tr>\n",
       "    <tr>\n",
       "      <th>375</th>\n",
       "      <td>1</td>\n",
       "      <td>0</td>\n",
       "    </tr>\n",
       "    <tr>\n",
       "      <th>381</th>\n",
       "      <td>1</td>\n",
       "      <td>0</td>\n",
       "    </tr>\n",
       "    <tr>\n",
       "      <th>382</th>\n",
       "      <td>1</td>\n",
       "      <td>0</td>\n",
       "    </tr>\n",
       "    <tr>\n",
       "      <th>384</th>\n",
       "      <td>1</td>\n",
       "      <td>0</td>\n",
       "    </tr>\n",
       "    <tr>\n",
       "      <th>386</th>\n",
       "      <td>1</td>\n",
       "      <td>0</td>\n",
       "    </tr>\n",
       "    <tr>\n",
       "      <th>397</th>\n",
       "      <td>1</td>\n",
       "      <td>0</td>\n",
       "    </tr>\n",
       "    <tr>\n",
       "      <th>407</th>\n",
       "      <td>1</td>\n",
       "      <td>0</td>\n",
       "    </tr>\n",
       "    <tr>\n",
       "      <th>411</th>\n",
       "      <td>1</td>\n",
       "      <td>0</td>\n",
       "    </tr>\n",
       "    <tr>\n",
       "      <th>424</th>\n",
       "      <td>1</td>\n",
       "      <td>0</td>\n",
       "    </tr>\n",
       "    <tr>\n",
       "      <th>426</th>\n",
       "      <td>1</td>\n",
       "      <td>0</td>\n",
       "    </tr>\n",
       "    <tr>\n",
       "      <th>431</th>\n",
       "      <td>1</td>\n",
       "      <td>0</td>\n",
       "    </tr>\n",
       "    <tr>\n",
       "      <th>433</th>\n",
       "      <td>1</td>\n",
       "      <td>0</td>\n",
       "    </tr>\n",
       "    <tr>\n",
       "      <th>446</th>\n",
       "      <td>1</td>\n",
       "      <td>0</td>\n",
       "    </tr>\n",
       "    <tr>\n",
       "      <th>449</th>\n",
       "      <td>1</td>\n",
       "      <td>0</td>\n",
       "    </tr>\n",
       "  </tbody>\n",
       "</table>\n",
       "</div>"
      ],
      "text/plain": [
       "     previsao  real\n",
       "14          1     0\n",
       "34          1     0\n",
       "76          1     0\n",
       "121         1     0\n",
       "139         1     0\n",
       "145         1     0\n",
       "152         1     0\n",
       "161         1     0\n",
       "164         1     0\n",
       "186         1     0\n",
       "205         1     0\n",
       "214         1     0\n",
       "228         1     0\n",
       "238         1     0\n",
       "239         1     0\n",
       "248         1     0\n",
       "268         1     0\n",
       "271         1     0\n",
       "281         1     0\n",
       "322         1     0\n",
       "332         1     0\n",
       "334         1     0\n",
       "375         1     0\n",
       "381         1     0\n",
       "382         1     0\n",
       "384         1     0\n",
       "386         1     0\n",
       "397         1     0\n",
       "407         1     0\n",
       "411         1     0\n",
       "424         1     0\n",
       "426         1     0\n",
       "431         1     0\n",
       "433         1     0\n",
       "446         1     0\n",
       "449         1     0"
      ]
     },
     "execution_count": 337,
     "metadata": {},
     "output_type": "execute_result"
    }
   ],
   "source": [
    "final_table = pd.DataFrame({'previsao': predictions, 'real':np.argmax(y_test, axis=1)})\n",
    "print('falso positivo')\n",
    "final_table[final_table['previsao'] > final_table['real']]"
   ]
  },
  {
   "cell_type": "code",
   "execution_count": 338,
   "metadata": {},
   "outputs": [
    {
     "name": "stdout",
     "output_type": "stream",
     "text": [
      "falso negatvo\n"
     ]
    },
    {
     "data": {
      "text/html": [
       "<div>\n",
       "<style scoped>\n",
       "    .dataframe tbody tr th:only-of-type {\n",
       "        vertical-align: middle;\n",
       "    }\n",
       "\n",
       "    .dataframe tbody tr th {\n",
       "        vertical-align: top;\n",
       "    }\n",
       "\n",
       "    .dataframe thead th {\n",
       "        text-align: right;\n",
       "    }\n",
       "</style>\n",
       "<table border=\"1\" class=\"dataframe\">\n",
       "  <thead>\n",
       "    <tr style=\"text-align: right;\">\n",
       "      <th></th>\n",
       "      <th>previsao</th>\n",
       "      <th>real</th>\n",
       "    </tr>\n",
       "  </thead>\n",
       "  <tbody>\n",
       "    <tr>\n",
       "      <th>5</th>\n",
       "      <td>0</td>\n",
       "      <td>1</td>\n",
       "    </tr>\n",
       "    <tr>\n",
       "      <th>13</th>\n",
       "      <td>0</td>\n",
       "      <td>1</td>\n",
       "    </tr>\n",
       "    <tr>\n",
       "      <th>35</th>\n",
       "      <td>0</td>\n",
       "      <td>1</td>\n",
       "    </tr>\n",
       "    <tr>\n",
       "      <th>41</th>\n",
       "      <td>0</td>\n",
       "      <td>1</td>\n",
       "    </tr>\n",
       "    <tr>\n",
       "      <th>51</th>\n",
       "      <td>0</td>\n",
       "      <td>1</td>\n",
       "    </tr>\n",
       "    <tr>\n",
       "      <th>77</th>\n",
       "      <td>0</td>\n",
       "      <td>1</td>\n",
       "    </tr>\n",
       "    <tr>\n",
       "      <th>86</th>\n",
       "      <td>0</td>\n",
       "      <td>1</td>\n",
       "    </tr>\n",
       "    <tr>\n",
       "      <th>109</th>\n",
       "      <td>0</td>\n",
       "      <td>1</td>\n",
       "    </tr>\n",
       "    <tr>\n",
       "      <th>117</th>\n",
       "      <td>0</td>\n",
       "      <td>1</td>\n",
       "    </tr>\n",
       "    <tr>\n",
       "      <th>127</th>\n",
       "      <td>0</td>\n",
       "      <td>1</td>\n",
       "    </tr>\n",
       "    <tr>\n",
       "      <th>131</th>\n",
       "      <td>0</td>\n",
       "      <td>1</td>\n",
       "    </tr>\n",
       "    <tr>\n",
       "      <th>173</th>\n",
       "      <td>0</td>\n",
       "      <td>1</td>\n",
       "    </tr>\n",
       "    <tr>\n",
       "      <th>189</th>\n",
       "      <td>0</td>\n",
       "      <td>1</td>\n",
       "    </tr>\n",
       "    <tr>\n",
       "      <th>234</th>\n",
       "      <td>0</td>\n",
       "      <td>1</td>\n",
       "    </tr>\n",
       "    <tr>\n",
       "      <th>237</th>\n",
       "      <td>0</td>\n",
       "      <td>1</td>\n",
       "    </tr>\n",
       "    <tr>\n",
       "      <th>243</th>\n",
       "      <td>0</td>\n",
       "      <td>1</td>\n",
       "    </tr>\n",
       "    <tr>\n",
       "      <th>251</th>\n",
       "      <td>0</td>\n",
       "      <td>1</td>\n",
       "    </tr>\n",
       "    <tr>\n",
       "      <th>273</th>\n",
       "      <td>0</td>\n",
       "      <td>1</td>\n",
       "    </tr>\n",
       "    <tr>\n",
       "      <th>275</th>\n",
       "      <td>0</td>\n",
       "      <td>1</td>\n",
       "    </tr>\n",
       "    <tr>\n",
       "      <th>321</th>\n",
       "      <td>0</td>\n",
       "      <td>1</td>\n",
       "    </tr>\n",
       "    <tr>\n",
       "      <th>388</th>\n",
       "      <td>0</td>\n",
       "      <td>1</td>\n",
       "    </tr>\n",
       "    <tr>\n",
       "      <th>414</th>\n",
       "      <td>0</td>\n",
       "      <td>1</td>\n",
       "    </tr>\n",
       "  </tbody>\n",
       "</table>\n",
       "</div>"
      ],
      "text/plain": [
       "     previsao  real\n",
       "5           0     1\n",
       "13          0     1\n",
       "35          0     1\n",
       "41          0     1\n",
       "51          0     1\n",
       "77          0     1\n",
       "86          0     1\n",
       "109         0     1\n",
       "117         0     1\n",
       "127         0     1\n",
       "131         0     1\n",
       "173         0     1\n",
       "189         0     1\n",
       "234         0     1\n",
       "237         0     1\n",
       "243         0     1\n",
       "251         0     1\n",
       "273         0     1\n",
       "275         0     1\n",
       "321         0     1\n",
       "388         0     1\n",
       "414         0     1"
      ]
     },
     "execution_count": 338,
     "metadata": {},
     "output_type": "execute_result"
    }
   ],
   "source": [
    "print('falso negatvo')\n",
    "\n",
    "final_table[final_table['previsao'] < final_table['real']]"
   ]
  },
  {
   "cell_type": "code",
   "execution_count": 339,
   "metadata": {},
   "outputs": [
    {
     "name": "stdout",
     "output_type": "stream",
     "text": [
      "Imagens que o sistema previu errado, com sua resposta original \n",
      "\n"
     ]
    },
    {
     "data": {
      "image/png": "[encoded data removed]",
      "text/plain": [
       "<Figure size 1152x720 with 6 Axes>"
      ]
     },
     "metadata": {},
     "output_type": "display_data"
    }
   ],
   "source": [
    "import matplotlib.image as mpimg\n",
    "import seaborn as sns\n",
    "import cv2\n",
    "sns.set(style='white', context='notebook', palette='deep')\n",
    "\n",
    "print('Imagens que o sistema previu errado, com sua resposta original \\n')\n",
    "fig, ax = plt.subplots(2,3, figsize=(16, 10), sharex=True,sharey=True)\n",
    "ax[0,0].imshow(X_test[14].reshape(100,100))\n",
    "ax[0,0].set_title(\"Exemplo de Falso Positivo\")\n",
    "\n",
    "ax[0,1].imshow(X_test[449].reshape(100,100))\n",
    "ax[0,1].set_title(\"Exemplo de Falso Positivo\")\n",
    "\n",
    "ax[0,2].imshow(X_test[434].reshape(100,100))\n",
    "ax[0,2].set_title(\"Exemplo de Falso Positivo\")\n",
    "\n",
    "ax[1,1].imshow(X_test[51].reshape(100,100))\n",
    "ax[1,1].set_title(\"Exemplo de Falso Negativo\")      \n",
    "\n",
    "ax[1,0].imshow(X_test[321].reshape(100,100))\n",
    "ax[1,0].set_title(\"Exemplo de Falso Negativo\")\n",
    "\n",
    "ax[1,2].imshow(X_test[417].reshape(100,100))\n",
    "ax[1,2].set_title(\"Exemplo de Falso Negativo\")\n",
    "\n",
    "ax[0,0].axis('off')\n",
    "ax[1,0].axis('off')\n",
    "ax[1,2].axis('off')\n",
    "ax[0,1].axis('off')\n",
    "ax[1,1].axis('off')\n",
    "ax[0,2].axis('off')\n",
    "\n",
    "\n",
    "plt.show()"
   ]
  },
  {
   "cell_type": "code",
   "execution_count": 340,
   "metadata": {},
   "outputs": [
    {
     "name": "stdout",
     "output_type": "stream",
     "text": [
      "De um total de 450 acertou 392 vezes\n"
     ]
    }
   ],
   "source": [
    "# Display some correct results \n",
    "\n",
    "acertos = (predictions - np.argmax(y_test, axis=1) == 0)\n",
    "print(\"De um total de\",len(predictions), \"acertou\", sum(acertos), \"vezes\")"
   ]
  },
  {
   "cell_type": "code",
   "execution_count": 341,
   "metadata": {},
   "outputs": [
    {
     "name": "stdout",
     "output_type": "stream",
     "text": [
      "trues\n"
     ]
    },
    {
     "data": {
      "text/html": [
       "<div>\n",
       "<style scoped>\n",
       "    .dataframe tbody tr th:only-of-type {\n",
       "        vertical-align: middle;\n",
       "    }\n",
       "\n",
       "    .dataframe tbody tr th {\n",
       "        vertical-align: top;\n",
       "    }\n",
       "\n",
       "    .dataframe thead th {\n",
       "        text-align: right;\n",
       "    }\n",
       "</style>\n",
       "<table border=\"1\" class=\"dataframe\">\n",
       "  <thead>\n",
       "    <tr style=\"text-align: right;\">\n",
       "      <th></th>\n",
       "      <th>previsao</th>\n",
       "      <th>real</th>\n",
       "    </tr>\n",
       "  </thead>\n",
       "  <tbody>\n",
       "    <tr>\n",
       "      <th>0</th>\n",
       "      <td>1</td>\n",
       "      <td>1</td>\n",
       "    </tr>\n",
       "    <tr>\n",
       "      <th>1</th>\n",
       "      <td>0</td>\n",
       "      <td>0</td>\n",
       "    </tr>\n",
       "    <tr>\n",
       "      <th>2</th>\n",
       "      <td>1</td>\n",
       "      <td>1</td>\n",
       "    </tr>\n",
       "    <tr>\n",
       "      <th>3</th>\n",
       "      <td>0</td>\n",
       "      <td>0</td>\n",
       "    </tr>\n",
       "    <tr>\n",
       "      <th>4</th>\n",
       "      <td>1</td>\n",
       "      <td>1</td>\n",
       "    </tr>\n",
       "    <tr>\n",
       "      <th>6</th>\n",
       "      <td>0</td>\n",
       "      <td>0</td>\n",
       "    </tr>\n",
       "    <tr>\n",
       "      <th>7</th>\n",
       "      <td>1</td>\n",
       "      <td>1</td>\n",
       "    </tr>\n",
       "    <tr>\n",
       "      <th>8</th>\n",
       "      <td>1</td>\n",
       "      <td>1</td>\n",
       "    </tr>\n",
       "    <tr>\n",
       "      <th>9</th>\n",
       "      <td>1</td>\n",
       "      <td>1</td>\n",
       "    </tr>\n",
       "    <tr>\n",
       "      <th>10</th>\n",
       "      <td>1</td>\n",
       "      <td>1</td>\n",
       "    </tr>\n",
       "    <tr>\n",
       "      <th>11</th>\n",
       "      <td>1</td>\n",
       "      <td>1</td>\n",
       "    </tr>\n",
       "    <tr>\n",
       "      <th>12</th>\n",
       "      <td>1</td>\n",
       "      <td>1</td>\n",
       "    </tr>\n",
       "    <tr>\n",
       "      <th>15</th>\n",
       "      <td>0</td>\n",
       "      <td>0</td>\n",
       "    </tr>\n",
       "    <tr>\n",
       "      <th>16</th>\n",
       "      <td>1</td>\n",
       "      <td>1</td>\n",
       "    </tr>\n",
       "    <tr>\n",
       "      <th>17</th>\n",
       "      <td>0</td>\n",
       "      <td>0</td>\n",
       "    </tr>\n",
       "    <tr>\n",
       "      <th>18</th>\n",
       "      <td>1</td>\n",
       "      <td>1</td>\n",
       "    </tr>\n",
       "    <tr>\n",
       "      <th>19</th>\n",
       "      <td>0</td>\n",
       "      <td>0</td>\n",
       "    </tr>\n",
       "    <tr>\n",
       "      <th>20</th>\n",
       "      <td>1</td>\n",
       "      <td>1</td>\n",
       "    </tr>\n",
       "    <tr>\n",
       "      <th>21</th>\n",
       "      <td>1</td>\n",
       "      <td>1</td>\n",
       "    </tr>\n",
       "    <tr>\n",
       "      <th>22</th>\n",
       "      <td>0</td>\n",
       "      <td>0</td>\n",
       "    </tr>\n",
       "    <tr>\n",
       "      <th>23</th>\n",
       "      <td>0</td>\n",
       "      <td>0</td>\n",
       "    </tr>\n",
       "    <tr>\n",
       "      <th>24</th>\n",
       "      <td>0</td>\n",
       "      <td>0</td>\n",
       "    </tr>\n",
       "    <tr>\n",
       "      <th>25</th>\n",
       "      <td>1</td>\n",
       "      <td>1</td>\n",
       "    </tr>\n",
       "    <tr>\n",
       "      <th>26</th>\n",
       "      <td>0</td>\n",
       "      <td>0</td>\n",
       "    </tr>\n",
       "    <tr>\n",
       "      <th>27</th>\n",
       "      <td>0</td>\n",
       "      <td>0</td>\n",
       "    </tr>\n",
       "    <tr>\n",
       "      <th>28</th>\n",
       "      <td>1</td>\n",
       "      <td>1</td>\n",
       "    </tr>\n",
       "    <tr>\n",
       "      <th>29</th>\n",
       "      <td>0</td>\n",
       "      <td>0</td>\n",
       "    </tr>\n",
       "    <tr>\n",
       "      <th>30</th>\n",
       "      <td>0</td>\n",
       "      <td>0</td>\n",
       "    </tr>\n",
       "    <tr>\n",
       "      <th>31</th>\n",
       "      <td>1</td>\n",
       "      <td>1</td>\n",
       "    </tr>\n",
       "    <tr>\n",
       "      <th>32</th>\n",
       "      <td>1</td>\n",
       "      <td>1</td>\n",
       "    </tr>\n",
       "    <tr>\n",
       "      <th>...</th>\n",
       "      <td>...</td>\n",
       "      <td>...</td>\n",
       "    </tr>\n",
       "    <tr>\n",
       "      <th>413</th>\n",
       "      <td>1</td>\n",
       "      <td>1</td>\n",
       "    </tr>\n",
       "    <tr>\n",
       "      <th>415</th>\n",
       "      <td>0</td>\n",
       "      <td>0</td>\n",
       "    </tr>\n",
       "    <tr>\n",
       "      <th>416</th>\n",
       "      <td>0</td>\n",
       "      <td>0</td>\n",
       "    </tr>\n",
       "    <tr>\n",
       "      <th>417</th>\n",
       "      <td>1</td>\n",
       "      <td>1</td>\n",
       "    </tr>\n",
       "    <tr>\n",
       "      <th>418</th>\n",
       "      <td>0</td>\n",
       "      <td>0</td>\n",
       "    </tr>\n",
       "    <tr>\n",
       "      <th>419</th>\n",
       "      <td>0</td>\n",
       "      <td>0</td>\n",
       "    </tr>\n",
       "    <tr>\n",
       "      <th>420</th>\n",
       "      <td>0</td>\n",
       "      <td>0</td>\n",
       "    </tr>\n",
       "    <tr>\n",
       "      <th>421</th>\n",
       "      <td>1</td>\n",
       "      <td>1</td>\n",
       "    </tr>\n",
       "    <tr>\n",
       "      <th>422</th>\n",
       "      <td>1</td>\n",
       "      <td>1</td>\n",
       "    </tr>\n",
       "    <tr>\n",
       "      <th>423</th>\n",
       "      <td>0</td>\n",
       "      <td>0</td>\n",
       "    </tr>\n",
       "    <tr>\n",
       "      <th>425</th>\n",
       "      <td>0</td>\n",
       "      <td>0</td>\n",
       "    </tr>\n",
       "    <tr>\n",
       "      <th>427</th>\n",
       "      <td>1</td>\n",
       "      <td>1</td>\n",
       "    </tr>\n",
       "    <tr>\n",
       "      <th>428</th>\n",
       "      <td>0</td>\n",
       "      <td>0</td>\n",
       "    </tr>\n",
       "    <tr>\n",
       "      <th>429</th>\n",
       "      <td>0</td>\n",
       "      <td>0</td>\n",
       "    </tr>\n",
       "    <tr>\n",
       "      <th>430</th>\n",
       "      <td>1</td>\n",
       "      <td>1</td>\n",
       "    </tr>\n",
       "    <tr>\n",
       "      <th>432</th>\n",
       "      <td>0</td>\n",
       "      <td>0</td>\n",
       "    </tr>\n",
       "    <tr>\n",
       "      <th>434</th>\n",
       "      <td>0</td>\n",
       "      <td>0</td>\n",
       "    </tr>\n",
       "    <tr>\n",
       "      <th>435</th>\n",
       "      <td>1</td>\n",
       "      <td>1</td>\n",
       "    </tr>\n",
       "    <tr>\n",
       "      <th>436</th>\n",
       "      <td>1</td>\n",
       "      <td>1</td>\n",
       "    </tr>\n",
       "    <tr>\n",
       "      <th>437</th>\n",
       "      <td>1</td>\n",
       "      <td>1</td>\n",
       "    </tr>\n",
       "    <tr>\n",
       "      <th>438</th>\n",
       "      <td>0</td>\n",
       "      <td>0</td>\n",
       "    </tr>\n",
       "    <tr>\n",
       "      <th>439</th>\n",
       "      <td>0</td>\n",
       "      <td>0</td>\n",
       "    </tr>\n",
       "    <tr>\n",
       "      <th>440</th>\n",
       "      <td>0</td>\n",
       "      <td>0</td>\n",
       "    </tr>\n",
       "    <tr>\n",
       "      <th>441</th>\n",
       "      <td>0</td>\n",
       "      <td>0</td>\n",
       "    </tr>\n",
       "    <tr>\n",
       "      <th>442</th>\n",
       "      <td>0</td>\n",
       "      <td>0</td>\n",
       "    </tr>\n",
       "    <tr>\n",
       "      <th>443</th>\n",
       "      <td>0</td>\n",
       "      <td>0</td>\n",
       "    </tr>\n",
       "    <tr>\n",
       "      <th>444</th>\n",
       "      <td>1</td>\n",
       "      <td>1</td>\n",
       "    </tr>\n",
       "    <tr>\n",
       "      <th>445</th>\n",
       "      <td>0</td>\n",
       "      <td>0</td>\n",
       "    </tr>\n",
       "    <tr>\n",
       "      <th>447</th>\n",
       "      <td>1</td>\n",
       "      <td>1</td>\n",
       "    </tr>\n",
       "    <tr>\n",
       "      <th>448</th>\n",
       "      <td>1</td>\n",
       "      <td>1</td>\n",
       "    </tr>\n",
       "  </tbody>\n",
       "</table>\n",
       "<p>392 rows × 2 columns</p>\n",
       "</div>"
      ],
      "text/plain": [
       "     previsao  real\n",
       "0           1     1\n",
       "1           0     0\n",
       "2           1     1\n",
       "3           0     0\n",
       "4           1     1\n",
       "6           0     0\n",
       "7           1     1\n",
       "8           1     1\n",
       "9           1     1\n",
       "10          1     1\n",
       "11          1     1\n",
       "12          1     1\n",
       "15          0     0\n",
       "16          1     1\n",
       "17          0     0\n",
       "18          1     1\n",
       "19          0     0\n",
       "20          1     1\n",
       "21          1     1\n",
       "22          0     0\n",
       "23          0     0\n",
       "24          0     0\n",
       "25          1     1\n",
       "26          0     0\n",
       "27          0     0\n",
       "28          1     1\n",
       "29          0     0\n",
       "30          0     0\n",
       "31          1     1\n",
       "32          1     1\n",
       "..        ...   ...\n",
       "413         1     1\n",
       "415         0     0\n",
       "416         0     0\n",
       "417         1     1\n",
       "418         0     0\n",
       "419         0     0\n",
       "420         0     0\n",
       "421         1     1\n",
       "422         1     1\n",
       "423         0     0\n",
       "425         0     0\n",
       "427         1     1\n",
       "428         0     0\n",
       "429         0     0\n",
       "430         1     1\n",
       "432         0     0\n",
       "434         0     0\n",
       "435         1     1\n",
       "436         1     1\n",
       "437         1     1\n",
       "438         0     0\n",
       "439         0     0\n",
       "440         0     0\n",
       "441         0     0\n",
       "442         0     0\n",
       "443         0     0\n",
       "444         1     1\n",
       "445         0     0\n",
       "447         1     1\n",
       "448         1     1\n",
       "\n",
       "[392 rows x 2 columns]"
      ]
     },
     "execution_count": 341,
     "metadata": {},
     "output_type": "execute_result"
    }
   ],
   "source": [
    "final_table = pd.DataFrame({'previsao': predictions, 'real':np.argmax(y_test, axis=1)})\n",
    "print('trues')\n",
    "final_table[final_table['previsao'] == final_table['real']]"
   ]
  },
  {
   "cell_type": "code",
   "execution_count": 342,
   "metadata": {},
   "outputs": [
    {
     "name": "stdout",
     "output_type": "stream",
     "text": [
      "Imagens que o sistema previu errado, com sua resposta original \n",
      "\n"
     ]
    },
    {
     "data": {
      "image/png": "[encoded data removed]",
      "text/plain": [
       "<Figure size 1152x720 with 6 Axes>"
      ]
     },
     "metadata": {},
     "output_type": "display_data"
    }
   ],
   "source": [
    "import matplotlib.image as mpimg\n",
    "import seaborn as sns\n",
    "import cv2\n",
    "sns.set(style='white', context='notebook', palette='deep')\n",
    "\n",
    "print('Imagens que o sistema previu errado, com sua resposta original \\n')\n",
    "fig, ax = plt.subplots(2,3, figsize=(16, 10), sharex=True,sharey=True)\n",
    "ax[0,0].imshow(X_test[0].reshape(100,100))\n",
    "ax[0,0].set_title(\"Exemplo de Verdadeiro Positivo\")\n",
    "\n",
    "ax[0,1].imshow(X_test[2].reshape(100,100))\n",
    "ax[0,1].set_title(\"Exemplo de Verdadeiro Positivo\")\n",
    "\n",
    "ax[0,2].imshow(X_test[4].reshape(100,100))\n",
    "ax[0,2].set_title(\"Exemplo de Verdadeiro Positivo\")\n",
    "\n",
    "ax[1,1].imshow(X_test[17].reshape(100,100))\n",
    "ax[1,1].set_title(\"Exemplo de Verdadeiro Negativo\")      \n",
    "\n",
    "ax[1,0].imshow(X_test[15].reshape(100,100))\n",
    "ax[1,0].set_title(\"Exemplo de Verdadeiro Negativo\")\n",
    "\n",
    "ax[1,2].imshow(X_test[6].reshape(100,100))\n",
    "ax[1,2].set_title(\"Exemplo de Verdadeiro Negativo\")\n",
    "\n",
    "ax[0,0].axis('off')\n",
    "ax[1,0].axis('off')\n",
    "ax[1,2].axis('off')\n",
    "ax[0,1].axis('off')\n",
    "ax[1,1].axis('off')\n",
    "ax[0,2].axis('off')\n",
    "\n",
    "\n",
    "plt.show()"
   ]
  },
  {
   "cell_type": "code",
   "execution_count": null,
   "metadata": {},
   "outputs": [],
   "source": []
  }
 ],
 "metadata": {
  "kernelspec": {
   "display_name": "Python 3",
   "language": "python",
   "name": "python3"
  },
  "language_info": {
   "codemirror_mode": {
    "name": "ipython",
    "version": 3
   },
   "file_extension": ".py",
   "mimetype": "text/x-python",
   "name": "python",
   "nbconvert_exporter": "python",
   "pygments_lexer": "ipython3",
   "version": "3.7.4"
  }
 },
 "nbformat": 4,
 "nbformat_minor": 2
}
